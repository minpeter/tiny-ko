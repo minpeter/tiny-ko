{
 "cells": [
  {
   "cell_type": "code",
   "execution_count": 2,
   "id": "90941dd4",
   "metadata": {},
   "outputs": [
    {
     "name": "stdout",
     "output_type": "stream",
     "text": [
      "Dataset({\n",
      "    features: ['text'],\n",
      "    num_rows: 121972\n",
      "})\n",
      "Dataset({\n",
      "    features: ['text'],\n",
      "    num_rows: 110820\n",
      "})\n",
      "Dataset({\n",
      "    features: ['text'],\n",
      "    num_rows: 204395\n",
      "})\n",
      "Dataset({\n",
      "    features: ['text'],\n",
      "    num_rows: 1313581\n",
      "})\n",
      "✨ 데이터셋 병합 완료!\n",
      "Dataset({\n",
      "    features: ['text'],\n",
      "    num_rows: 1750768\n",
      "})\n",
      "{'text': Value('string')}\n"
     ]
    }
   ],
   "source": [
    "\n",
    "from datasets import load_dataset, concatenate_datasets\n",
    "import datasets\n",
    "\n",
    "geulgyeol_byncsa = load_dataset(\"geulgyeol/geulgyeol-by-nc-sa\", num_proc=128)\n",
    "geulgyeol_byncsa = concatenate_datasets(list(geulgyeol_byncsa.values()))\n",
    "geulgyeol_byncsa = geulgyeol_byncsa.remove_columns([col for col in geulgyeol_byncsa.column_names if col != \"text\"])\n",
    "print(geulgyeol_byncsa)\n",
    "\n",
    "geulgyeol_bysa = load_dataset(\"geulgyeol/geulgyeol-by-sa\", num_proc=128)\n",
    "geulgyeol_bysa = concatenate_datasets(list(geulgyeol_bysa.values()))\n",
    "geulgyeol_bysa = geulgyeol_bysa.remove_columns([col for col in geulgyeol_bysa.column_names if col != \"text\"])\n",
    "print(geulgyeol_bysa)\n",
    "\n",
    "geulgyeol_by = load_dataset(\"geulgyeol/geulgyeol-by\", num_proc=128)\n",
    "geulgyeol_by = concatenate_datasets(list(geulgyeol_by.values()))\n",
    "geulgyeol_by = geulgyeol_by.remove_columns([col for col in geulgyeol_by.column_names if col != \"text\"])\n",
    "print(geulgyeol_by)\n",
    "\n",
    "geulgyeol_bync = load_dataset(\"geulgyeol/geulgyeol-by-nc\", num_proc=128)\n",
    "geulgyeol_bync = concatenate_datasets(list(geulgyeol_bync.values()))\n",
    "geulgyeol_bync = geulgyeol_bync.remove_columns([col for col in geulgyeol_bync.column_names if col != \"text\"])\n",
    "print(geulgyeol_bync)\n",
    "\n",
    "geulgyeol_to_combine = [\n",
    "    geulgyeol_byncsa, \n",
    "    geulgyeol_bysa, \n",
    "    geulgyeol_by, \n",
    "    geulgyeol_bync\n",
    "]\n",
    "\n",
    "new_features = datasets.Features({'text': datasets.Value('string')})\n",
    "\n",
    "corrected_datasets = []\n",
    "for ds in geulgyeol_to_combine:\n",
    "    corrected_ds = ds.cast(new_features, num_proc=128)\n",
    "    corrected_datasets.append(corrected_ds)\n",
    "\n",
    "geulgyeol = concatenate_datasets(corrected_datasets)\n",
    "\n",
    "print(\"✨ 데이터셋 병합 완료!\")\n",
    "print(geulgyeol)\n",
    "print(geulgyeol.features)"
   ]
  },
  {
   "cell_type": "code",
   "execution_count": null,
   "id": "1a25b12c",
   "metadata": {},
   "outputs": [],
   "source": [
    "import os\n",
    "\n",
    "num_processors = max(1, os.cpu_count() - 8)\n",
    "print(f\"Total CPUs: {os.cpu_count()}, Using {num_processors} processes for mapping.\")\n",
    "\n",
    "geulgyeol.push_to_hub(\"minpeter/geulgyeol-blog-korean\", private=False, num_proc=num_processors)"
   ]
  }
 ],
 "metadata": {
  "kernelspec": {
   "display_name": "tiny-ko",
   "language": "python",
   "name": "python3"
  },
  "language_info": {
   "codemirror_mode": {
    "name": "ipython",
    "version": 3
   },
   "file_extension": ".py",
   "mimetype": "text/x-python",
   "name": "python",
   "nbconvert_exporter": "python",
   "pygments_lexer": "ipython3",
   "version": "3.13.5"
  }
 },
 "nbformat": 4,
 "nbformat_minor": 5
}
