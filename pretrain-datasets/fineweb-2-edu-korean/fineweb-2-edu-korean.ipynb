{
 "cells": [
  {
   "cell_type": "markdown",
   "id": "eb28a7b4",
   "metadata": {},
   "source": [
    "### Execute the pipeline\n",
    "\n",
    "```bash\n",
    "uv run papermill \\\n",
    "  pretrain-datasets/fineweb-2-edu-korean/fineweb-2-edu-korean.ipynb \\\n",
    "  pretrain-datasets/fineweb-2-edu-korean/output.ipynb\n",
    "```\n",
    "\n",
    "### Monitor the progress\n",
    "\n",
    "```bash\n",
    "watch -n 1 \"cat pretrain-datasets/fineweb-2-edu-korean/output.ipynb| jq -r '.cells[3].outputs[-1].text[-1]'\"\n",
    "```\n",
    "\n",
    "\n",
    "### Upload to hub\n",
    "\n",
    "```bash\n",
    "huggingface-cli upload-large-folder minpeter/minpeter/fineweb-2-edu-korean-raw --repo-type=dataset ./artifacts/dataset/fineweb-2-edu-korean-scored --num-workers=16\n",
    "```"
   ]
  },
  {
   "cell_type": "code",
   "execution_count": null,
   "id": "cb7f7c5c",
   "metadata": {
    "execution": {
     "iopub.execute_input": "2025-07-23T13:36:27.444982Z",
     "iopub.status.busy": "2025-07-23T13:36:27.444848Z",
     "iopub.status.idle": "2025-07-23T13:36:47.282679Z",
     "shell.execute_reply": "2025-07-23T13:36:47.282199Z"
    }
   },
   "outputs": [
    {
     "name": "stderr",
     "output_type": "stream",
     "text": [
      "/data/minpeter/github.com/minpeter/tiny-ko/.venv/lib/python3.13/site-packages/tqdm/auto.py:21: TqdmWarning: IProgress not found. Please update jupyter and ipywidgets. See https://ipywidgets.readthedocs.io/en/stable/user_install.html\n",
      "  from .autonotebook import tqdm as notebook_tqdm\n"
     ]
    },
    {
     "data": {
      "text/plain": [
       "Dataset({\n",
       "    features: ['text', 'id', 'dump', 'url', 'date', 'file_path', 'language', 'language_score', 'language_script', 'minhash_cluster_size', 'top_langs'],\n",
       "    num_rows: 100000\n",
       "})"
      ]
     },
     "execution_count": 1,
     "metadata": {},
     "output_type": "execute_result"
    }
   ],
   "source": [
    "from datasets import load_dataset, concatenate_datasets\n",
    "\n",
    "# https://huggingface.co/docs/datasets/loading#multiprocessing\n",
    "fw2_subset = load_dataset(\"HuggingFaceFW/fineweb-2\", data_dir=\"data/kor_Hang\",  num_proc=128)\n",
    "fw2_subset = concatenate_datasets(list(fw2_subset.values())) # This will concatenate all splits into one dataset\n",
    "# fw2_subset = fw2_subset.select(range(0, 100000))\n",
    "fw2_subset"
   ]
  },
  {
   "cell_type": "code",
   "execution_count": 2,
   "id": "c24db8bd",
   "metadata": {
    "execution": {
     "iopub.execute_input": "2025-07-23T13:36:47.284341Z",
     "iopub.status.busy": "2025-07-23T13:36:47.284074Z",
     "iopub.status.idle": "2025-07-23T13:36:47.702801Z",
     "shell.execute_reply": "2025-07-23T13:36:47.702404Z"
    }
   },
   "outputs": [
    {
     "name": "stdout",
     "output_type": "stream",
     "text": [
      "Total CPUs: 128, Using 120 processes for mapping.\n"
     ]
    },
    {
     "data": {
      "text/plain": [
       "Dataset({\n",
       "    features: ['input_ids', 'attention_mask'],\n",
       "    num_rows: 100000\n",
       "})"
      ]
     },
     "execution_count": 2,
     "metadata": {},
     "output_type": "execute_result"
    }
   ],
   "source": [
    "import os\n",
    "\n",
    "def tokenize_function(batch):\n",
    "    from transformers import AutoTokenizer\n",
    "    tokenizer = AutoTokenizer.from_pretrained(\"devngho/ko_edu_classifier_v2_nlpai-lab_KoE5\")\n",
    "    prefixed_texts = [\"passage: \" + text for text in batch[\"text\"]]\n",
    "    return tokenizer(prefixed_texts, padding=True, return_tensors=\"pt\", truncation=True, max_length=512)\n",
    "\n",
    "num_processors = max(1, os.cpu_count() - 8)\n",
    "print(f\"Total CPUs: {os.cpu_count()}, Using {num_processors} processes for mapping.\")\n",
    "\n",
    "tokenized_dataset = fw2_subset.map(\n",
    "    tokenize_function,\n",
    "    batched=True,\n",
    "    batch_size=4096,\n",
    "    num_proc=num_processors,\n",
    "    remove_columns=fw2_subset.column_names\n",
    ")\n",
    "tokenized_dataset"
   ]
  },
  {
   "cell_type": "code",
   "execution_count": 3,
   "id": "b8e2b43d",
   "metadata": {
    "execution": {
     "iopub.execute_input": "2025-07-23T13:36:47.704140Z",
     "iopub.status.busy": "2025-07-23T13:36:47.703999Z",
     "iopub.status.idle": "2025-07-23T13:36:50.925530Z",
     "shell.execute_reply": "2025-07-23T13:36:50.924991Z"
    }
   },
   "outputs": [
    {
     "name": "stdout",
     "output_type": "stream",
     "text": [
      "env: CUDA_VISIBLE_DEVICES=4,5,6,7\n"
     ]
    }
   ],
   "source": [
    "%env CUDA_VISIBLE_DEVICES=4,5,6,7\n",
    "\n",
    "import torch\n",
    "from multiprocess import set_start_method\n",
    "\n",
    "tokenized_dataset.set_format(type=\"torch\", columns=[\"input_ids\", \"attention_mask\"])\n",
    "\n",
    "def gpu_computation(batch, rank):\n",
    "    import torch\n",
    "    from transformers import AutoModelForSequenceClassification\n",
    "    model = AutoModelForSequenceClassification.from_pretrained(\"devngho/ko_edu_classifier_v2_nlpai-lab_KoE5\", torch_dtype=torch.bfloat16)\n",
    "    model = torch.compile(model).eval()\n",
    "\n",
    "    # Move the model on the right GPU if it's not there already\n",
    "    device = f\"cuda:{(rank or 0) % torch.cuda.device_count()}\"\n",
    "    model.to(device)\n",
    "\n",
    "    model_inputs = {k: v.to(device) for k, v in batch.items()}\n",
    "\n",
    "    with torch.no_grad():\n",
    "        outputs = model(**model_inputs)\n",
    "    return {\"score\": outputs.logits.squeeze(-1).float().cpu().numpy()}\n",
    "\n",
    "\n",
    "\n",
    "if __name__ == \"__main__\":\n",
    "    try:\n",
    "        set_start_method('spawn')\n",
    "    except RuntimeError:\n",
    "        pass\n",
    "\n",
    "    scored_dataset = tokenized_dataset.map(\n",
    "        gpu_computation,\n",
    "        batched=True,\n",
    "        batch_size=6144,\n",
    "        with_rank=True,\n",
    "        num_proc=torch.cuda.device_count(),\n",
    "    )"
   ]
  },
  {
   "cell_type": "code",
   "execution_count": 4,
   "id": "feadfc7d",
   "metadata": {
    "execution": {
     "iopub.execute_input": "2025-07-23T13:36:50.927488Z",
     "iopub.status.busy": "2025-07-23T13:36:50.927327Z",
     "iopub.status.idle": "2025-07-23T13:37:01.380007Z",
     "shell.execute_reply": "2025-07-23T13:37:01.379480Z"
    }
   },
   "outputs": [
    {
     "data": {
      "text/plain": [
       "Dataset({\n",
       "    features: ['text', 'id', 'dump', 'url', 'date', 'file_path', 'language', 'language_score', 'language_script', 'minhash_cluster_size', 'top_langs', 'score'],\n",
       "    num_rows: 100000\n",
       "})"
      ]
     },
     "execution_count": 4,
     "metadata": {},
     "output_type": "execute_result"
    }
   ],
   "source": [
    "scores_column = [score.item() for score in scored_dataset[\"score\"]]\n",
    "fw2_with_score = fw2_subset.add_column(\"score\", scores_column)\n",
    "fw2_with_score"
   ]
  },
  {
   "cell_type": "code",
   "execution_count": 5,
   "id": "d52d3f4d",
   "metadata": {
    "execution": {
     "iopub.execute_input": "2025-07-23T13:37:01.381524Z",
     "iopub.status.busy": "2025-07-23T13:37:01.381358Z",
     "iopub.status.idle": "2025-07-23T13:37:01.384852Z",
     "shell.execute_reply": "2025-07-23T13:37:01.384531Z"
    }
   },
   "outputs": [
    {
     "data": {
      "text/plain": [
       "{'text': 'White Fantail Pigeons 3\\nFantail Pigeon\\nTaken with Sony MVC-CD1000 at Kamsung Primary School, Korea.\\n(Dec. 8, 2000)\\nThis image is released to the public domain.\\nFeel free to distribute it.\\nMy photograph page at http://www.jinsuk.pe.kr\\nfilename=\"White_Fantail_Pigeon_JS003-by_Jinsuk_Kim.jpg\"\\n공작비둘기 Columba livia 비둘기과\\n집에서 기르는 비둘기 종류의 가금으로 오래 전부터 개량되어 왔으며 인도가 원산이다.\\n관상용으로 개량하여 만든 품종이다. 원종은 유럽에서 남아시아에 분포하는 양비둘기(C. rupestris)이고 인도에서 기르기 시작하였다고 한다. 비둘기의 꽁지깃은 보통 12장이지만, 이 품종은 20∼30개나 되고 이것을 부채꼴로 펴는 것이 공작과 닮았다. 깃 빛깔은 흰색 외에 붉은색과 검정색 등이 있다. 기르기 쉬운 비둘기이다.',\n",
       " 'id': '<urn:uuid:ad224e20-74af-4f43-8e94-81f2c15355dc>',\n",
       " 'dump': 'CC-MAIN-2013-20',\n",
       " 'url': 'http://animal.memozee.com/view.php?tid=1&did=11586',\n",
       " 'date': '2013-05-19T10:59:46Z',\n",
       " 'file_path': 's3://commoncrawl/crawl-data/CC-MAIN-2013-20/segments/1368697420704/warc/CC-MAIN-20130516094340-00023-ip-10-60-113-184.ec2.internal.warc.gz',\n",
       " 'language': 'kor',\n",
       " 'language_score': 1.000004529953003,\n",
       " 'language_script': 'Hang',\n",
       " 'minhash_cluster_size': 3,\n",
       " 'top_langs': '{}',\n",
       " 'score': 2.84375}"
      ]
     },
     "execution_count": 5,
     "metadata": {},
     "output_type": "execute_result"
    }
   ],
   "source": [
    "fw2_with_score[0]"
   ]
  },
  {
   "cell_type": "code",
   "execution_count": 6,
   "id": "0eb87b10",
   "metadata": {
    "execution": {
     "iopub.execute_input": "2025-07-23T13:37:01.385997Z",
     "iopub.status.busy": "2025-07-23T13:37:01.385859Z",
     "iopub.status.idle": "2025-07-23T13:37:03.329110Z",
     "shell.execute_reply": "2025-07-23T13:37:03.328680Z"
    }
   },
   "outputs": [
    {
     "data": {
      "image/png": "[encoded data removed]",
      "text/plain": [
       "<Figure size 640x480 with 1 Axes>"
      ]
     },
     "metadata": {},
     "output_type": "display_data"
    }
   ],
   "source": [
    "import matplotlib.pyplot as plt\n",
    "\n",
    "plt.hist(fw2_with_score[\"score\"], bins=50, color='skyblue', edgecolor='black')\n",
    "plt.title(\"Score Distribution in fw2_with_score\")\n",
    "plt.xlabel(\"Score\")\n",
    "plt.ylabel(\"Frequency\")\n",
    "plt.show()"
   ]
  },
  {
   "cell_type": "code",
   "execution_count": 7,
   "id": "f4663186",
   "metadata": {
    "execution": {
     "iopub.execute_input": "2025-07-23T13:37:03.330519Z",
     "iopub.status.busy": "2025-07-23T13:37:03.330280Z",
     "iopub.status.idle": "2025-07-23T13:37:03.676061Z",
     "shell.execute_reply": "2025-07-23T13:37:03.675686Z"
    }
   },
   "outputs": [
    {
     "name": "stderr",
     "output_type": "stream",
     "text": [
      "\r\n",
      "Saving the dataset (0/1 shards):   0%|          | 0/100000 [00:00<?, ? examples/s]"
     ]
    },
    {
     "name": "stderr",
     "output_type": "stream",
     "text": [
      "\r\n",
      "Saving the dataset (0/1 shards):  31%|▎| 31000/100000 [00:00<00:00, 291483.32 exam"
     ]
    },
    {
     "name": "stderr",
     "output_type": "stream",
     "text": [
      "\r\n",
      "Saving the dataset (0/1 shards):  62%|▌| 62000/100000 [00:00<00:00, 299977.16 exam"
     ]
    },
    {
     "name": "stderr",
     "output_type": "stream",
     "text": [
      "\r\n",
      "Saving the dataset (0/1 shards):  94%|▉| 94000/100000 [00:00<00:00, 303454.41 exam"
     ]
    },
    {
     "name": "stderr",
     "output_type": "stream",
     "text": [
      "\r\n",
      "Saving the dataset (1/1 shards): 100%|█| 100000/100000 [00:00<00:00, 303454.41 exa"
     ]
    },
    {
     "name": "stderr",
     "output_type": "stream",
     "text": [
      "\r\n",
      "Saving the dataset (1/1 shards): 100%|█| 100000/100000 [00:00<00:00, 300991.03 exa"
     ]
    },
    {
     "name": "stderr",
     "output_type": "stream",
     "text": [
      "\n"
     ]
    }
   ],
   "source": [
    "# fw2_with_score.push_to_hub(\"minpeter/fineweb-2-edu-korean-scored\")\n",
    "fw2_with_score.save_to_disk(\"artifacts/dataset/fineweb-2-edu-korean-scored\")"
   ]
  }
 ],
 "metadata": {
  "kernelspec": {
   "display_name": "tiny-ko",
   "language": "python",
   "name": "python3"
  },
  "language_info": {
   "codemirror_mode": {
    "name": "ipython",
    "version": 3
   },
   "file_extension": ".py",
   "mimetype": "text/x-python",
   "name": "python",
   "nbconvert_exporter": "python",
   "pygments_lexer": "ipython3",
   "version": "3.13.5"
  }
 },
 "nbformat": 4,
 "nbformat_minor": 5
}
