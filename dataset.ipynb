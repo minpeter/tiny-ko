{
 "cells": [
  {
   "cell_type": "code",
   "execution_count": null,
   "id": "01fd90ba",
   "metadata": {},
   "outputs": [],
   "source": [
    "import datasets"
   ]
  },
  {
   "cell_type": "code",
   "execution_count": null,
   "id": "43e500d6",
   "metadata": {},
   "outputs": [],
   "source": [
    "dataset1 = datasets.load_dataset('HAERAE-HUB/KOREAN-WEBTEXT', split='train')\n",
    "dataset1"
   ]
  },
  {
   "cell_type": "code",
   "execution_count": null,
   "id": "7282d01f",
   "metadata": {},
   "outputs": [],
   "source": [
    "dataset2 = datasets.load_dataset('blueapple8259/c4-ko-cleaned-2', split='train')\n",
    "dataset2"
   ]
  },
  {
   "cell_type": "code",
   "execution_count": null,
   "id": "026239db",
   "metadata": {},
   "outputs": [],
   "source": [
    "dataset3 = datasets.load_dataset('HAERAE-HUB/KOREAN-SyntheticText-1.5B', split='train')\n",
    "dataset3"
   ]
  },
  {
   "cell_type": "code",
   "execution_count": null,
   "id": "1b4797b8",
   "metadata": {},
   "outputs": [],
   "source": [
    "# maywell/korean_textbooks 데이터셋에서 분류기로 3점 이상의 데이터만 수집\n",
    "dataset4 = datasets.load_dataset(\"devngho/korean-textbooks-edu\", name=\"scored_over_3\", split=\"train\")\n",
    "dataset4"
   ]
  },
  {
   "cell_type": "code",
   "execution_count": null,
   "id": "07771364",
   "metadata": {},
   "outputs": [],
   "source": [
    "from datasets import concatenate_datasets\n",
    "\n",
    "combined_dataset = concatenate_datasets([dataset1, dataset2, dataset3, dataset4])\n",
    "combined_dataset"
   ]
  },
  {
   "cell_type": "code",
   "execution_count": null,
   "id": "2dc7c7a7",
   "metadata": {},
   "outputs": [],
   "source": [
    "seen = set()\n",
    "def filter_duplicates(example):\n",
    "    text = example[\"text\"]\n",
    "    if text in seen:\n",
    "        return False\n",
    "    seen.add(text)\n",
    "    return True\n",
    "\n",
    "unique_dataset = combined_dataset.filter(filter_duplicates)\n",
    "unique_dataset"
   ]
  },
  {
   "cell_type": "code",
   "execution_count": null,
   "id": "371c4232",
   "metadata": {},
   "outputs": [],
   "source": [
    "# text 컬럼만 남기고 나머지 컬럼 제거\n",
    "columns_to_remove = [col for col in unique_dataset.column_names if col != \"text\"]\n",
    "text_only_dataset = unique_dataset.remove_columns(columns_to_remove)\n",
    "text_only_dataset"
   ]
  },
  {
   "cell_type": "code",
   "execution_count": null,
   "id": "4911ac6a",
   "metadata": {},
   "outputs": [],
   "source": [
    "# text안에 내용이 100글자 아래인 경우에 대해서 제거\n",
    "def filter_short_texts(example):\n",
    "    return len(example[\"text\"]) >= 100\n",
    "\n",
    "filtered_dataset = text_only_dataset.filter(filter_short_texts)\n",
    "filtered_dataset"
   ]
  },
  {
   "cell_type": "code",
   "execution_count": null,
   "id": "396a9af4",
   "metadata": {},
   "outputs": [],
   "source": [
    "shuffled_dataset = filtered_dataset.shuffle(seed=5768112)"
   ]
  },
  {
   "cell_type": "code",
   "execution_count": null,
   "id": "32b73b57",
   "metadata": {},
   "outputs": [],
   "source": [
    "shuffled_dataset.push_to_hub(\"minpeter/pretrain-korean-dedup\", split=\"train\")"
   ]
  }
 ],
 "metadata": {
  "kernelspec": {
   "display_name": ".venv",
   "language": "python",
   "name": "python3"
  },
  "language_info": {
   "codemirror_mode": {
    "name": "ipython",
    "version": 3
   },
   "file_extension": ".py",
   "mimetype": "text/x-python",
   "name": "python",
   "nbconvert_exporter": "python",
   "pygments_lexer": "ipython3",
   "version": "3.13.2"
  }
 },
 "nbformat": 4,
 "nbformat_minor": 5
}
