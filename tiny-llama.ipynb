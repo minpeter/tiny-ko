{
 "cells": [
  {
   "cell_type": "code",
   "execution_count": 17,
   "id": "6b258fc6",
   "metadata": {},
   "outputs": [
    {
     "name": "stdout",
     "output_type": "stream",
     "text": [
      "Config: LlamaConfig {\n",
      "  \"attention_bias\": false,\n",
      "  \"attention_dropout\": 0.0,\n",
      "  \"bos_token_id\": 128256,\n",
      "  \"eos_token_id\": 128257,\n",
      "  \"head_dim\": 64,\n",
      "  \"hidden_act\": \"silu\",\n",
      "  \"hidden_size\": 576,\n",
      "  \"initializer_range\": 0.02,\n",
      "  \"intermediate_size\": 1536,\n",
      "  \"max_position_embeddings\": 2048,\n",
      "  \"mlp_bias\": false,\n",
      "  \"model_type\": \"llama\",\n",
      "  \"num_attention_heads\": 9,\n",
      "  \"num_hidden_layers\": 30,\n",
      "  \"num_key_value_heads\": 3,\n",
      "  \"pretraining_tp\": 1,\n",
      "  \"rms_norm_eps\": 1e-06,\n",
      "  \"rope_scaling\": null,\n",
      "  \"rope_theta\": 10000.0,\n",
      "  \"tie_word_embeddings\": false,\n",
      "  \"transformers_version\": \"4.52.4\",\n",
      "  \"use_cache\": true,\n",
      "  \"vocab_size\": 128267\n",
      "}\n",
      "\n",
      "Model size: 0.2B parameters\n",
      "Model size: 180.1M parameters\n"
     ]
    },
    {
     "data": {
      "text/plain": [
       "('./tiny-random/tokenizer_config.json',\n",
       " './tiny-random/special_tokens_map.json',\n",
       " './tiny-random/chat_template.jinja',\n",
       " './tiny-random/tokenizer.json')"
      ]
     },
     "execution_count": 17,
     "metadata": {},
     "output_type": "execute_result"
    }
   ],
   "source": [
    "from transformers import  LlamaConfig, LlamaModel, AutoTokenizer\n",
    "\n",
    "tokenizer = AutoTokenizer.from_pretrained(\"kakaocorp/kanana-1.5-2.1b-base\", trust_remote_code=True)\n",
    "\n",
    "# <<<< 약간의 편집 <<<<\n",
    "chat_template = AutoTokenizer.from_pretrained(\"Qwen/Qwen2.5-0.5B\", trust_remote_code=True).chat_template\n",
    "tokenizer.chat_template = chat_template\n",
    "tokenizer.add_special_tokens({\n",
    "    \"additional_special_tokens\": [\n",
    "        \"<|im_start|>\", \"<|im_end|>\", \"<|finetune_pad|>\", \"<tools>\", \"</tools>\", \"<tool_call>\", \"</tool_call>\", \"<tool_response>\", \"</tool_response>\", \"<think>\", \"</think>\"\n",
    "    ]\n",
    "})\n",
    "tokenizer.eos_token = \"<|im_end|>\"\n",
    "tokenizer.bos_token = \"<|im_start|>\"\n",
    "tokenizer.pad_token = \"<finetune_pad>\"\n",
    "# >>>> 약간의 편집 >>>>\n",
    "\n",
    "config = LlamaConfig(\n",
    "    hidden_size=576,        # 히든 크기\n",
    "    num_attention_heads=9,   # 어텐션 헤드 수\n",
    "    num_hidden_layers=30,    # 레이어 수\n",
    "    intermediate_size=1536,  # FFN 차원 (보통 hidden_size * (2 ~ 4)\n",
    "    num_key_value_heads=3,\n",
    "    vocab_size=len(tokenizer),\n",
    "    max_position_embeddings=2048,\n",
    "    pad_token_id=tokenizer.pad_token_id,\n",
    "    eos_token_id=tokenizer.eos_token_id,\n",
    "    bos_token_id=tokenizer.bos_token_id,\n",
    ")\n",
    "\n",
    "print(f\"Config: {config}\")\n",
    "\n",
    "# 랜덤 파라미터로 초기화\n",
    "model = LlamaModel(config)\n",
    "\n",
    "# 모델 파라미터 수 확인\n",
    "model_size = sum(t.numel() for t in model.parameters())\n",
    "print(f\"Model size: {model_size/1000**3:.1f}B parameters\")\n",
    "print(f\"Model size: {model_size/1000**2:.1f}M parameters\")\n",
    "\n",
    "model.save_pretrained(\"./tiny-random\")\n",
    "tokenizer.save_pretrained(\"./tiny-random\")"
   ]
  },
  {
   "cell_type": "code",
   "execution_count": 18,
   "id": "985991f0",
   "metadata": {},
   "outputs": [
    {
     "name": "stderr",
     "output_type": "stream",
     "text": [
      "Some weights of LlamaForCausalLM were not initialized from the model checkpoint at ./tiny-random and are newly initialized: ['lm_head.weight']\n",
      "You should probably TRAIN this model on a down-stream task to be able to use it for predictions and inference.\n",
      "Device set to use cuda:0\n"
     ]
    },
    {
     "name": "stdout",
     "output_type": "stream",
     "text": [
      "\n",
      "한글은 대한민국의 universalंरotions.Members성ंर fel glVertex justo\tth độcンタはず whims depreciation虽然 depreciation whims이며ulneryor độcloslosンタ이며 whims độc took.signals userEmail.cs았다 Awareруж ball.gif Aware'].$(media took showing.gif Aware.gifrozenруж.atan Representatives\tEntity_equ Podcast(media.signals ($_ getFile took showing whims took � проек worsening.atan(\"../../ showing싱 took contains PodcastΟΡ showing Seeds universal getFile.atan）。\n",
      "\n",
      " universal nobンタ）。\n",
      "\n",
      "ンタ getFile DAYS _(ΟΡ_equ(media.atan Seeds Podcast حرفه проекンタΟΡ았다 검색(media justo took\n"
     ]
    }
   ],
   "source": [
    "import transformers\n",
    "import torch\n",
    "\n",
    "model_id = \"./tiny-random\"\n",
    "\n",
    "pipeline = transformers.pipeline(\n",
    "    \"text-generation\", model=model_id, model_kwargs={\"torch_dtype\": torch.bfloat16}, device_map=\"auto\",\n",
    "    max_new_tokens=100\n",
    ")\n",
    "\n",
    "reps = pipeline(\"\"\"\n",
    "한글은 대한민국의\"\"\")[0][\"generated_text\"]\n",
    "print(reps)"
   ]
  }
 ],
 "metadata": {
  "kernelspec": {
   "display_name": ".venv",
   "language": "python",
   "name": "python3"
  },
  "language_info": {
   "codemirror_mode": {
    "name": "ipython",
    "version": 3
   },
   "file_extension": ".py",
   "mimetype": "text/x-python",
   "name": "python",
   "nbconvert_exporter": "python",
   "pygments_lexer": "ipython3",
   "version": "3.13.2"
  }
 },
 "nbformat": 4,
 "nbformat_minor": 5
}
