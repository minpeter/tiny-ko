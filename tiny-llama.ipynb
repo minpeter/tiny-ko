{
 "cells": [
  {
   "cell_type": "code",
   "execution_count": 1,
   "id": "6b258fc6",
   "metadata": {},
   "outputs": [
    {
     "name": "stderr",
     "output_type": "stream",
     "text": [
      "/data/minpeter/github.com/minpeter/mirco-ko-llama/.venv/lib/python3.13/site-packages/tqdm/auto.py:21: TqdmWarning: IProgress not found. Please update jupyter and ipywidgets. See https://ipywidgets.readthedocs.io/en/stable/user_install.html\n",
      "  from .autonotebook import tqdm as notebook_tqdm\n"
     ]
    },
    {
     "name": "stdout",
     "output_type": "stream",
     "text": [
      "128256\n"
     ]
    }
   ],
   "source": [
    "from transformers import  LlamaConfig, LlamaModel, AutoTokenizer\n",
    "\n",
    "tokenizer = AutoTokenizer.from_pretrained(\"meta-llama/Llama-3.2-1B\", trust_remote_code=True)\n",
    "\n",
    "tokenizer.save_pretrained(\"./model/tiny-random-v2\")\n",
    "\n",
    "print(len(tokenizer))"
   ]
  },
  {
   "cell_type": "code",
   "execution_count": null,
   "id": "5a8d523e",
   "metadata": {},
   "outputs": [],
   "source": [
    "config = LlamaConfig(\n",
    "    hidden_size=576,        # 히든 크기\n",
    "    num_attention_heads=9,   # 어텐션 헤드 수\n",
    "    num_hidden_layers=30,    # 레이어 수\n",
    "    intermediate_size=1536,  # FFN 차원 (보통 hidden_size * (2 ~ 4)\n",
    "    num_key_value_heads=3,\n",
    "    vocab_size=len(tokenizer),\n",
    "    max_position_embeddings=2048,\n",
    "    pad_token_id=tokenizer.pad_token_id,\n",
    "    eos_token_id=tokenizer.eos_token_id,\n",
    "    bos_token_id=tokenizer.bos_token_id,\n",
    ")\n",
    "\n",
    "print(f\"Config: {config}\")\n",
    "\n",
    "# 랜덤 파라미터로 초기화\n",
    "model = LlamaModel(config)\n",
    "\n",
    "# 모델 파라미터 수 확인\n",
    "model_size = sum(t.numel() for t in model.parameters())\n",
    "print(f\"Model size: {model_size/1000**3:.1f}B parameters\")\n",
    "print(f\"Model size: {model_size/1000**2:.1f}M parameters\")\n",
    "\n",
    "model.save_pretrained(\"./tiny-random\")"
   ]
  },
  {
   "cell_type": "code",
   "execution_count": null,
   "id": "985991f0",
   "metadata": {},
   "outputs": [],
   "source": [
    "import transformers\n",
    "import torch\n",
    "\n",
    "model_id = \"./tiny-random\"\n",
    "\n",
    "pipeline = transformers.pipeline(\n",
    "    \"text-generation\", model=model_id, model_kwargs={\"torch_dtype\": torch.bfloat16}, device_map=\"auto\",\n",
    "    max_new_tokens=100\n",
    ")\n",
    "\n",
    "reps = pipeline(\"\"\"\n",
    "한글은 대한민국의\"\"\")[0][\"generated_text\"]\n",
    "print(reps)"
   ]
  }
 ],
 "metadata": {
  "kernelspec": {
   "display_name": ".venv",
   "language": "python",
   "name": "python3"
  },
  "language_info": {
   "codemirror_mode": {
    "name": "ipython",
    "version": 3
   },
   "file_extension": ".py",
   "mimetype": "text/x-python",
   "name": "python",
   "nbconvert_exporter": "python",
   "pygments_lexer": "ipython3",
   "version": "3.13.2"
  }
 },
 "nbformat": 4,
 "nbformat_minor": 5
}
